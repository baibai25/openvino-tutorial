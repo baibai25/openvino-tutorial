{
 "cells": [
  {
   "cell_type": "markdown",
   "id": "c62fda56",
   "metadata": {},
   "source": [
    "# Ref\n",
    "- https://github.com/openvinotoolkit/openvino_notebooks/blob/latest/notebooks/hello-segmentation/hello-segmentation.ipynb"
   ]
  },
  {
   "cell_type": "code",
   "execution_count": 1,
   "id": "6927a8dc",
   "metadata": {},
   "outputs": [],
   "source": [
    "import time\n",
    "from pathlib import Path\n",
    "\n",
    "import cv2\n",
    "import matplotlib.pyplot as plt\n",
    "import numpy as np\n",
    "import openvino as ov\n",
    "import requests\n"
   ]
  },
  {
   "cell_type": "code",
   "execution_count": 2,
   "id": "90f047bb",
   "metadata": {},
   "outputs": [],
   "source": [
    "if not Path(\"notebook_utils.py\").exists():\n",
    "    r = requests.get(\n",
    "        url=\"https://raw.githubusercontent.com/openvinotoolkit/openvino_notebooks/latest/utils/notebook_utils.py\",\n",
    "    )\n",
    "\n",
    "    open(\"notebook_utils.py\", \"w\").write(r.text)\n",
    "\n",
    "from notebook_utils import segmentation_map_to_image, download_file, device_widget\n",
    "\n",
    "# Read more about telemetry collection at https://github.com/openvinotoolkit/openvino_notebooks?tab=readme-ov-file#-telemetry\n",
    "from notebook_utils import collect_telemetry\n",
    "\n",
    "collect_telemetry(\"hello-segmentation.ipynb\")\n"
   ]
  },
  {
   "cell_type": "code",
   "execution_count": 3,
   "id": "674b665c",
   "metadata": {},
   "outputs": [
    {
     "name": "stdout",
     "output_type": "stream",
     "text": [
      "road-segmentation-adas-0001 already downloaded to model\n"
     ]
    }
   ],
   "source": [
    "base_model_dir = Path(\"./model\").expanduser()\n",
    "\n",
    "model_name = \"road-segmentation-adas-0001\"\n",
    "model_xml_name = f\"{model_name}.xml\"\n",
    "model_bin_name = f\"{model_name}.bin\"\n",
    "\n",
    "model_xml_path = base_model_dir / model_xml_name\n",
    "\n",
    "if not model_xml_path.exists():\n",
    "    model_xml_url = \"https://storage.openvinotoolkit.org/repositories/open_model_zoo/2023.0/models_bin/1/road-segmentation-adas-0001/FP32/road-segmentation-adas-0001.xml\"\n",
    "    model_bin_url = \"https://storage.openvinotoolkit.org/repositories/open_model_zoo/2023.0/models_bin/1/road-segmentation-adas-0001/FP32/road-segmentation-adas-0001.bin\"\n",
    "\n",
    "    download_file(model_xml_url, model_xml_name, base_model_dir)\n",
    "    download_file(model_bin_url, model_bin_name, base_model_dir)\n",
    "else:\n",
    "    print(f\"{model_name} already downloaded to {base_model_dir}\")\n"
   ]
  },
  {
   "cell_type": "code",
   "execution_count": 4,
   "id": "054f58a1",
   "metadata": {},
   "outputs": [],
   "source": [
    "# Download the image from the openvino_notebooks storage\n",
    "image_filename = Path(\"data/empty_road_mapillary.jpg\")\n",
    "\n",
    "\n",
    "if not image_filename.exists():\n",
    "    download_file(\n",
    "        \"https://storage.openvinotoolkit.org/repositories/openvino_notebooks/data/data/image/empty_road_mapillary.jpg\",\n",
    "        directory=\"data\",\n",
    "    )"
   ]
  },
  {
   "cell_type": "code",
   "execution_count": 5,
   "id": "750672b8",
   "metadata": {},
   "outputs": [],
   "source": [
    "# --------------- 1. 前処理ユーティリティ ----------------\n",
    "def load_and_preprocess(image_path: str, input_shape):\n",
    "    \"\"\"画像を読み込み、ネットワーク入力形状 (N,C,H,W) に整形して返す\"\"\"\n",
    "    image = cv2.imread(str(image_path))  # BGR\n",
    "    _, _, H, W = input_shape\n",
    "    resized = cv2.resize(image, (W, H))  # (W,H)!\n",
    "    input_blob = np.expand_dims(resized.transpose(2, 0, 1), 0)  # N,C,H,W\n",
    "    return image, input_blob\n",
    "\n",
    "\n",
    "# --------------- 2. 推論時間計測関数 ----------------\n",
    "def benchmark(compiled_model, input_blob, n_iter: int = 20):\n",
    "    \"\"\"同期推論を n_iter 回まわして平均処理時間 [ms] を返す\"\"\"\n",
    "    infer_request = compiled_model.create_infer_request()\n",
    "    # warm‑up\n",
    "    for _ in range(10):\n",
    "        infer_request.infer([input_blob])\n",
    "\n",
    "    start = time.perf_counter()\n",
    "    for _ in range(n_iter):\n",
    "        infer_request.infer([input_blob])\n",
    "    end = time.perf_counter()\n",
    "\n",
    "    return (end - start) * 1000 / n_iter  # [ms]\n",
    "\n",
    "\n",
    "# --------------- 3. ベンチマーク比較本体 ----------------\n",
    "def compare_cpu_vs_npu(\n",
    "    model_xml_path: str,\n",
    "    image_path: str,\n",
    "    n_iter: int = 20,\n",
    "):\n",
    "    core = ov.Core()\n",
    "\n",
    "    # モデルロード（.xml/.bin ペア or .onnx でも可）\n",
    "    model = core.read_model(model_xml_path)\n",
    "\n",
    "    # ネットワーク入力形状取得\n",
    "    input_shape = model.input(0).shape\n",
    "\n",
    "    # 画像読み込み & 前処理\n",
    "    _, input_blob = load_and_preprocess(image_path, input_shape)\n",
    "\n",
    "    results = {}\n",
    "    for device in (\"CPU\", \"NPU\"):\n",
    "        try:\n",
    "            compiled = core.compile_model(model, device)\n",
    "        except RuntimeError as e:\n",
    "            print(f\"[skip] {device} でのコンパイルに失敗しました → {e}\")\n",
    "            continue\n",
    "\n",
    "        avg_ms = benchmark(compiled, input_blob, n_iter)\n",
    "        results[device] = avg_ms\n",
    "        print(f\"{device:>3}: {avg_ms:.2f} ms / 推論 (平均, {n_iter} 回)\")\n",
    "\n",
    "    # ------- optional: 可視化 -------\n",
    "    if len(results) > 1:\n",
    "        plt.figure()\n",
    "        plt.bar(results.keys(), results.values())\n",
    "        plt.ylabel(\"Latency [ms] (lower is better)\")\n",
    "        plt.title(f\"Inference latency comparison\\n(n_iter={n_iter})\")\n",
    "        for dev, ms in results.items():\n",
    "            plt.text(dev, ms, f\"{ms:.1f} ms\", ha=\"center\", va=\"bottom\")\n",
    "        plt.show()"
   ]
  },
  {
   "cell_type": "code",
   "execution_count": 6,
   "id": "2571d9d4",
   "metadata": {},
   "outputs": [
    {
     "name": "stdout",
     "output_type": "stream",
     "text": [
      "CPU: 9.65 ms / 推論 (平均, 100 回)\n",
      "NPU: 26.83 ms / 推論 (平均, 100 回)\n"
     ]
    },
    {
     "data": {
      "image/png": "[encoded data removed]",
      "text/plain": [
       "<Figure size 640x480 with 1 Axes>"
      ]
     },
     "metadata": {},
     "output_type": "display_data"
    }
   ],
   "source": [
    "compare_cpu_vs_npu(model_xml_path=model_xml_path, image_path=image_filename, n_iter=100)"
   ]
  },
  {
   "cell_type": "code",
   "execution_count": null,
   "id": "c7a1e7b8",
   "metadata": {},
   "outputs": [],
   "source": []
  }
 ],
 "metadata": {
  "kernelspec": {
   "display_name": ".venv",
   "language": "python",
   "name": "python3"
  },
  "language_info": {
   "codemirror_mode": {
    "name": "ipython",
    "version": 3
   },
   "file_extension": ".py",
   "mimetype": "text/x-python",
   "name": "python",
   "nbconvert_exporter": "python",
   "pygments_lexer": "ipython3",
   "version": "3.11.4"
  }
 },
 "nbformat": 4,
 "nbformat_minor": 5
}
