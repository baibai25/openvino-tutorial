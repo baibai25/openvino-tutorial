{
 "cells": [
  {
   "cell_type": "code",
   "execution_count": 1,
   "id": "029e04d3",
   "metadata": {},
   "outputs": [],
   "source": [
    "import openvino as ov\n",
    "import torch\n",
    "from datasets import load_dataset\n",
    "from transformers import AutoImageProcessor, ResNetForImageClassification\n",
    "import time"
   ]
  },
  {
   "cell_type": "code",
   "execution_count": 2,
   "id": "eef3cc42",
   "metadata": {},
   "outputs": [
    {
     "data": {
      "text/plain": [
       "['CPU', 'NPU']"
      ]
     },
     "execution_count": 2,
     "metadata": {},
     "output_type": "execute_result"
    }
   ],
   "source": [
    "core = ov.Core()\n",
    "core.available_devices"
   ]
  },
  {
   "cell_type": "code",
   "execution_count": 3,
   "id": "1423a00d",
   "metadata": {},
   "outputs": [],
   "source": [
    "# Download resnet-50 model\n",
    "model = ResNetForImageClassification.from_pretrained(\"microsoft/resnet-50\")"
   ]
  },
  {
   "cell_type": "code",
   "execution_count": 4,
   "id": "3c7248d3",
   "metadata": {},
   "outputs": [
    {
     "name": "stderr",
     "output_type": "stream",
     "text": [
      "/home/yata/Desktop/openvino-tutorial/.venv/lib/python3.11/site-packages/transformers/models/resnet/modeling_resnet.py:91: TracerWarning: Converting a tensor to a Python boolean might cause the trace to be incorrect. We can't record the data flow of Python values, so this value will be treated as a constant in the future. This means that the trace might not generalize to other inputs!\n",
      "  if num_channels != self.num_channels:\n"
     ]
    }
   ],
   "source": [
    "# Convert to onnx format\n",
    "torch.onnx.export(\n",
    "    model,\n",
    "    torch.randn(1, 3, 224, 224),\n",
    "    \"./model/resnet50.onnx\",\n",
    "    input_names=[\"input\"],\n",
    "    output_names=[\"output\"],\n",
    ")"
   ]
  },
  {
   "cell_type": "code",
   "execution_count": 5,
   "id": "1af979ac",
   "metadata": {},
   "outputs": [],
   "source": [
    "# Load onnx model\n",
    "ov_model = ov.convert_model(\"./model/resnet50.onnx\")\n",
    "\n",
    "# Convert to OpenVINO format\n",
    "cpu_model = core.compile_model(ov_model, device_name=\"CPU\")\n",
    "# npu_model = core.compile_model(ov_model, device_name=\"NPU\")"
   ]
  },
  {
   "cell_type": "code",
   "execution_count": 6,
   "id": "67124f95",
   "metadata": {},
   "outputs": [],
   "source": [
    "def create_dataset() -> list:\n",
    "    dataset = load_dataset(\"Rapidata/Animals-10\")\n",
    "    processor = AutoImageProcessor.from_pretrained(\"microsoft/resnet-50\")\n",
    "\n",
    "    teset_dataset = []\n",
    "    for i in range(len(dataset[\"train\"])):\n",
    "        image = dataset[\"train\"][i]\n",
    "        image_arrays = processor(image[\"image\"], return_tensors=\"np\")[\"pixel_values\"]\n",
    "        teset_dataset.append({\"data\": image_arrays, \"label\": image[\"label\"]})\n",
    "\n",
    "    return teset_dataset"
   ]
  },
  {
   "cell_type": "code",
   "execution_count": 7,
   "id": "3fa1308f",
   "metadata": {},
   "outputs": [
    {
     "name": "stderr",
     "output_type": "stream",
     "text": [
      "Using a slow image processor as `use_fast` is unset and a slow processor was saved with this model. `use_fast=True` will be the default behavior in v4.52, even if the model was saved with a slow processor. This will result in minor differences in outputs. You'll still be able to use a slow processor with `use_fast=False`.\n"
     ]
    }
   ],
   "source": [
    "teset_dataset = create_dataset()"
   ]
  },
  {
   "cell_type": "code",
   "execution_count": 8,
   "id": "fbf3403e",
   "metadata": {},
   "outputs": [
    {
     "name": "stdout",
     "output_type": "stream",
     "text": [
      "CPU inference time: 225.2637 seconds\n"
     ]
    }
   ],
   "source": [
    "start = time.perf_counter()\n",
    "for test_data in teset_dataset:\n",
    "    cpu_model([test_data[\"data\"]])\n",
    "end = time.perf_counter()\n",
    "\n",
    "print(f\"CPU inference time: {end - start:.4f} seconds\")"
   ]
  },
  {
   "cell_type": "code",
   "execution_count": null,
   "id": "d301f8b1",
   "metadata": {},
   "outputs": [],
   "source": []
  }
 ],
 "metadata": {
  "kernelspec": {
   "display_name": ".venv",
   "language": "python",
   "name": "python3"
  },
  "language_info": {
   "codemirror_mode": {
    "name": "ipython",
    "version": 3
   },
   "file_extension": ".py",
   "mimetype": "text/x-python",
   "name": "python",
   "nbconvert_exporter": "python",
   "pygments_lexer": "ipython3",
   "version": "3.11.4"
  }
 },
 "nbformat": 4,
 "nbformat_minor": 5
}
